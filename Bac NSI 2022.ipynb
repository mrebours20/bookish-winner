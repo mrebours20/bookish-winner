{
 "cells": [
  {
   "cell_type": "markdown",
   "metadata": {},
   "source": [
    "### Exercice 1"
   ]
  },
  {
   "cell_type": "markdown",
   "metadata": {},
   "source": [
    "1-a La fonction est récursive car on appèle la fonction dans la fonction\n",
    "\n"
   ]
  },
  {
   "cell_type": "markdown",
   "metadata": {},
   "source": [
    "-b Si la fonction choise retourne \"Fasle\" un nombre de fois supérieur à la limite de profondeur de la récursivité (1000) dans ce cas une erreur d'exécution se produit.\n",
    "\n",
    "pour contrer cela:\n",
    "import sys  \n",
    "sys.setrecursionlimit(10**6)"
   ]
  },
  {
   "cell_type": "markdown",
   "metadata": {},
   "source": [
    "2 a-"
   ]
  },
  {
   "cell_type": "code",
   "execution_count": 13,
   "metadata": {},
   "outputs": [
    {
     "data": {
      "text/plain": [
       "'aaa'"
      ]
     },
     "execution_count": 13,
     "metadata": {},
     "output_type": "execute_result"
    }
   ],
   "source": [
    "from random import choice\n",
    "def A(n):\n",
    "    if n<=0 or choice([True, False]) :\n",
    "        return \"a\"\n",
    "    else:\n",
    "        return \"a\" + A(n-1) + \"a\"\n",
    "A(10)"
   ]
  },
  {
   "cell_type": "markdown",
   "metadata": {},
   "source": [
    "2 b- étant donné que le n décrement ansi le false ne pourra pas dépasser 50"
   ]
  },
  {
   "cell_type": "code",
   "execution_count": null,
   "metadata": {},
   "outputs": [],
   "source": [
    "def B(n):\n",
    "    if n <= 0 or choice([True, False]):\n",
    "        return \"b\" + A(n-1) + \"b\"\n",
    "    else:\n",
    "        return \"b\" + B(n-1) + \"b\""
   ]
  },
  {
   "cell_type": "markdown",
   "metadata": {},
   "source": [
    "3 \n",
    "B(0)=\"bab\"\n",
    "B(1)=\"bbabb\" ou \"bab\"\n",
    "B(2)=\"bbbabbb\" ou \"bbbaabbb\" ou \"bbbaaabbb\""
   ]
  },
  {
   "cell_type": "markdown",
   "metadata": {},
   "source": [
    "4 a"
   ]
  },
  {
   "cell_type": "code",
   "execution_count": 25,
   "metadata": {},
   "outputs": [
    {
     "data": {
      "text/plain": [
       "False"
      ]
     },
     "execution_count": 25,
     "metadata": {},
     "output_type": "execute_result"
    }
   ],
   "source": [
    "def regleA(chaine):\n",
    "    n = len(chaine)\n",
    "    if n >= 2:\n",
    "        return chaine[0] == \"a\" and chaine[n-1] == \"a\" and regleA(\"a\")\n",
    "    else:\n",
    "        return chaine == \"a\"\n",
    "regleA(\"baab\")"
   ]
  },
  {
   "cell_type": "markdown",
   "metadata": {},
   "source": [
    "b"
   ]
  },
  {
   "cell_type": "code",
   "execution_count": 34,
   "metadata": {},
   "outputs": [
    {
     "data": {
      "text/plain": [
       "True"
      ]
     },
     "execution_count": 34,
     "metadata": {},
     "output_type": "execute_result"
    }
   ],
   "source": [
    "def regleB(chaine):\n",
    "    n = len(chaine)\n",
    "    if n >= 2:\n",
    "        return chaine[0] == \"b\" and chaine[n-1] == \"b\" and regleA(\"a\")\n",
    "    else:\n",
    "        return chaine == \"a\"\n",
    "regleA(\"a\")"
   ]
  }
 ],
 "metadata": {
  "kernelspec": {
   "display_name": "Python 3",
   "language": "python",
   "name": "python3"
  },
  "language_info": {
   "codemirror_mode": {
    "name": "ipython",
    "version": 3
   },
   "file_extension": ".py",
   "mimetype": "text/x-python",
   "name": "python",
   "nbconvert_exporter": "python",
   "pygments_lexer": "ipython3",
   "version": "3.8.3"
  }
 },
 "nbformat": 4,
 "nbformat_minor": 4
}
